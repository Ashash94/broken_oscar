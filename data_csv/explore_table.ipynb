{
 "cells": [
  {
   "cell_type": "code",
   "execution_count": 1,
   "id": "6539b6bf-7ea1-46f8-a4f7-a6717570b67c",
   "metadata": {},
   "outputs": [],
   "source": [
    "%matplotlib inline\n",
    "\n",
    "import pandas as pd\n",
    "import matplotlib.pyplot as plt\n",
    "import matplotlib.colors as mcolors\n",
    "import numpy as np"
   ]
  },
  {
   "cell_type": "code",
   "execution_count": 10,
   "id": "674a6a8b-21b6-4e87-bc97-edc67e1c5684",
   "metadata": {},
   "outputs": [
    {
     "data": {
      "text/plain": [
       "gender\n",
       "F    36.0\n",
       "M    44.0\n",
       "Name: age, dtype: float64"
      ]
     },
     "execution_count": 10,
     "metadata": {},
     "output_type": "execute_result"
    }
   ],
   "source": [
    "df = pd.read_csv('../data_csv/oscar_merged.csv')\n",
    "average_age_gender = df.groupby('gender')['age'].mean().round(0)\n",
    "\n",
    "average_age_gender"
   ]
  },
  {
   "cell_type": "code",
   "execution_count": 34,
   "id": "9f3f0dd1-11c9-408d-9caa-7c89ead6b8f7",
   "metadata": {},
   "outputs": [],
   "source": [
    "df_most_win = df.groupby('name').size()"
   ]
  },
  {
   "cell_type": "code",
   "execution_count": null,
   "id": "42e53b3b-9987-4bdc-8bf0-5b2bab533845",
   "metadata": {},
   "outputs": [],
   "source": [
    "most_common_names = df_most_win[df_most_win >= 2]\n",
    "most_common_names"
   ]
  },
  {
   "cell_type": "code",
   "execution_count": 32,
   "id": "a4dcf5b3-edb7-44a1-8856-cb44ee95bacb",
   "metadata": {},
   "outputs": [
    {
     "name": "stderr",
     "output_type": "stream",
     "text": [
      "/tmp/ipykernel_42041/1771606963.py:2: FutureWarning: The default of observed=False is deprecated and will be changed to True in a future version of pandas. Pass observed=False to retain current behavior or observed=True to adopt the future default and silence this warning.\n",
      "  average_age_decade = df.groupby([pd.cut(df['year'], bins=decade_bins),'gender'])['age'].mean().round(0).reset_index(name='average_age')\n"
     ]
    },
    {
     "data": {
      "text/html": [
       "<div>\n",
       "<style scoped>\n",
       "    .dataframe tbody tr th:only-of-type {\n",
       "        vertical-align: middle;\n",
       "    }\n",
       "\n",
       "    .dataframe tbody tr th {\n",
       "        vertical-align: top;\n",
       "    }\n",
       "\n",
       "    .dataframe thead th {\n",
       "        text-align: right;\n",
       "    }\n",
       "</style>\n",
       "<table border=\"1\" class=\"dataframe\">\n",
       "  <thead>\n",
       "    <tr style=\"text-align: right;\">\n",
       "      <th></th>\n",
       "      <th>year</th>\n",
       "      <th>gender</th>\n",
       "      <th>average_age</th>\n",
       "    </tr>\n",
       "  </thead>\n",
       "  <tbody>\n",
       "    <tr>\n",
       "      <th>0</th>\n",
       "      <td>(1920, 1930]</td>\n",
       "      <td>F</td>\n",
       "      <td>38.0</td>\n",
       "    </tr>\n",
       "    <tr>\n",
       "      <th>1</th>\n",
       "      <td>(1920, 1930]</td>\n",
       "      <td>M</td>\n",
       "      <td>50.0</td>\n",
       "    </tr>\n",
       "    <tr>\n",
       "      <th>2</th>\n",
       "      <td>(1930, 1940]</td>\n",
       "      <td>F</td>\n",
       "      <td>28.0</td>\n",
       "    </tr>\n",
       "    <tr>\n",
       "      <th>3</th>\n",
       "      <td>(1930, 1940]</td>\n",
       "      <td>M</td>\n",
       "      <td>38.0</td>\n",
       "    </tr>\n",
       "    <tr>\n",
       "      <th>4</th>\n",
       "      <td>(1940, 1950]</td>\n",
       "      <td>F</td>\n",
       "      <td>33.0</td>\n",
       "    </tr>\n",
       "    <tr>\n",
       "      <th>5</th>\n",
       "      <td>(1940, 1950]</td>\n",
       "      <td>M</td>\n",
       "      <td>44.0</td>\n",
       "    </tr>\n",
       "    <tr>\n",
       "      <th>6</th>\n",
       "      <td>(1950, 1960]</td>\n",
       "      <td>F</td>\n",
       "      <td>36.0</td>\n",
       "    </tr>\n",
       "    <tr>\n",
       "      <th>7</th>\n",
       "      <td>(1950, 1960]</td>\n",
       "      <td>M</td>\n",
       "      <td>42.0</td>\n",
       "    </tr>\n",
       "    <tr>\n",
       "      <th>8</th>\n",
       "      <td>(1960, 1970]</td>\n",
       "      <td>F</td>\n",
       "      <td>37.0</td>\n",
       "    </tr>\n",
       "    <tr>\n",
       "      <th>9</th>\n",
       "      <td>(1960, 1970]</td>\n",
       "      <td>M</td>\n",
       "      <td>45.0</td>\n",
       "    </tr>\n",
       "    <tr>\n",
       "      <th>10</th>\n",
       "      <td>(1970, 1980]</td>\n",
       "      <td>F</td>\n",
       "      <td>35.0</td>\n",
       "    </tr>\n",
       "    <tr>\n",
       "      <th>11</th>\n",
       "      <td>(1970, 1980]</td>\n",
       "      <td>M</td>\n",
       "      <td>44.0</td>\n",
       "    </tr>\n",
       "    <tr>\n",
       "      <th>12</th>\n",
       "      <td>(1980, 1990]</td>\n",
       "      <td>F</td>\n",
       "      <td>46.0</td>\n",
       "    </tr>\n",
       "    <tr>\n",
       "      <th>13</th>\n",
       "      <td>(1980, 1990]</td>\n",
       "      <td>M</td>\n",
       "      <td>48.0</td>\n",
       "    </tr>\n",
       "    <tr>\n",
       "      <th>14</th>\n",
       "      <td>(1990, 2000]</td>\n",
       "      <td>F</td>\n",
       "      <td>35.0</td>\n",
       "    </tr>\n",
       "    <tr>\n",
       "      <th>15</th>\n",
       "      <td>(1990, 2000]</td>\n",
       "      <td>M</td>\n",
       "      <td>44.0</td>\n",
       "    </tr>\n",
       "    <tr>\n",
       "      <th>16</th>\n",
       "      <td>(2000, 2010]</td>\n",
       "      <td>F</td>\n",
       "      <td>36.0</td>\n",
       "    </tr>\n",
       "    <tr>\n",
       "      <th>17</th>\n",
       "      <td>(2000, 2010]</td>\n",
       "      <td>M</td>\n",
       "      <td>45.0</td>\n",
       "    </tr>\n",
       "  </tbody>\n",
       "</table>\n",
       "</div>"
      ],
      "text/plain": [
       "            year gender  average_age\n",
       "0   (1920, 1930]      F         38.0\n",
       "1   (1920, 1930]      M         50.0\n",
       "2   (1930, 1940]      F         28.0\n",
       "3   (1930, 1940]      M         38.0\n",
       "4   (1940, 1950]      F         33.0\n",
       "5   (1940, 1950]      M         44.0\n",
       "6   (1950, 1960]      F         36.0\n",
       "7   (1950, 1960]      M         42.0\n",
       "8   (1960, 1970]      F         37.0\n",
       "9   (1960, 1970]      M         45.0\n",
       "10  (1970, 1980]      F         35.0\n",
       "11  (1970, 1980]      M         44.0\n",
       "12  (1980, 1990]      F         46.0\n",
       "13  (1980, 1990]      M         48.0\n",
       "14  (1990, 2000]      F         35.0\n",
       "15  (1990, 2000]      M         44.0\n",
       "16  (2000, 2010]      F         36.0\n",
       "17  (2000, 2010]      M         45.0"
      ]
     },
     "execution_count": 32,
     "metadata": {},
     "output_type": "execute_result"
    }
   ],
   "source": [
    "decade_bins = range(1920, 2020, 10)\n",
    "average_age_decade = df.groupby([pd.cut(df['year'], bins=decade_bins),'gender'])['age'].mean().round(0).reset_index(name='average_age')\n",
    "average_age_decade"
   ]
  },
  {
   "cell_type": "code",
   "execution_count": 31,
   "id": "9325e1f9-7db8-4fc9-8618-63e28574b2ce",
   "metadata": {},
   "outputs": [
    {
     "ename": "TypeError",
     "evalue": "'Series' object is not callable",
     "output_type": "error",
     "traceback": [
      "\u001b[0;31m---------------------------------------------------------------------------\u001b[0m",
      "\u001b[0;31mTypeError\u001b[0m                                 Traceback (most recent call last)",
      "Cell \u001b[0;32mIn[31], line 2\u001b[0m\n\u001b[1;32m      1\u001b[0m genre_colors \u001b[38;5;241m=\u001b[39m [\u001b[38;5;124m'\u001b[39m\u001b[38;5;124mcyan\u001b[39m\u001b[38;5;124m'\u001b[39m \u001b[38;5;28;01mif\u001b[39;00m gender \u001b[38;5;241m==\u001b[39m \u001b[38;5;124m'\u001b[39m\u001b[38;5;124mM\u001b[39m\u001b[38;5;124m'\u001b[39m \u001b[38;5;28;01melse\u001b[39;00m \u001b[38;5;124m'\u001b[39m\u001b[38;5;124mpink\u001b[39m\u001b[38;5;124m'\u001b[39m \u001b[38;5;28;01mfor\u001b[39;00m gender \u001b[38;5;129;01min\u001b[39;00m df[\u001b[38;5;124m'\u001b[39m\u001b[38;5;124mgender\u001b[39m\u001b[38;5;124m'\u001b[39m]]\n\u001b[0;32m----> 2\u001b[0m plt\u001b[38;5;241m.\u001b[39mhist(average_age_decade([\u001b[38;5;124m'\u001b[39m\u001b[38;5;124mage\u001b[39m\u001b[38;5;124m'\u001b[39m,\u001b[38;5;124m'\u001b[39m\u001b[38;5;124mgenre\u001b[39m\u001b[38;5;124m'\u001b[39m]), bins\u001b[38;5;241m=\u001b[39m\u001b[38;5;241m10\u001b[39m, color\u001b[38;5;241m=\u001b[39mgenre_colors)\n\u001b[1;32m      3\u001b[0m plt\u001b[38;5;241m.\u001b[39mxlabel(\u001b[38;5;124m'\u001b[39m\u001b[38;5;124mDecade\u001b[39m\u001b[38;5;124m'\u001b[39m)\n\u001b[1;32m      4\u001b[0m plt\u001b[38;5;241m.\u001b[39mylabel(\u001b[38;5;124m'\u001b[39m\u001b[38;5;124mAverage Age\u001b[39m\u001b[38;5;124m'\u001b[39m)\n",
      "\u001b[0;31mTypeError\u001b[0m: 'Series' object is not callable"
     ]
    }
   ],
   "source": [
    "genre_colors = ['cyan' if gender == 'M' else 'pink' for gender in df['gender']]\n",
    "plt.hist(average_age_decade(['age','genre']), bins=10, color=genre_colors)\n",
    "plt.xlabel('Decade')\n",
    "plt.ylabel('Average Age')\n",
    "plt.title('Average Age of Oscar Winners by Decade and Gender with Linear Regression')\n",
    "plt.legend()\n",
    "plt.grid(True)\n",
    "plt.show()"
   ]
  },
  {
   "cell_type": "code",
   "execution_count": null,
   "id": "e0c8dc9c-d2fb-42f9-9cde-3cf4fa15d8a8",
   "metadata": {},
   "outputs": [],
   "source": [
    "average.plot(kind='hist', bins=10, color='skyblue', edgecolor='black')\n",
    "\n",
    "# Ajouter\n",
    "\n",
    "# Afficher le graphique\n",
    "plt.show()\n",
    "male_regression = LinearRegression()\n",
    "male_regression.fit(np.array(male_df['age'].index).reshape(-1, 1), male_df['age'])\n",
    "\n",
    "female_regression = LinearRegression()\n",
    "female_regression.fit(np.array(female_df['age'].index).reshape(-1, 1), female_df['age'])\n",
    "\n",
    "# Plotting\n",
    "plt.figure(figsize=(10, 6))\n",
    "\n",
    "# Plotting average age for male and female Oscar winners by decade\n",
    "plt.scatter(male_df['age'].index, male_df['age'].values, marker='o', color='' label='Male Age')\n",
    "plt.scatter(female_df['age'].index, female_df['age'].values, marker='o', label='Female Average Age')\n",
    "\n",
    "# Plotting linear regression lines for male and female\n",
    "plt.plot(male_df['age'].index, male_regression.predict(np.array(male_df['age'].index).reshape(-1, 1)), linestyle='-', color='orange', label='Male Regression')\n",
    "plt.plot(female_df['age'].index, female_regression.predict(np.array(female_df['age'].index).reshape(-1, 1)), linestyle='-', color='blue', label='Female Regression')\n",
    "\n",
    "plt.xlabel('Decade')\n",
    "plt.ylabel('Average Age')\n",
    "plt.title('Average Age of Oscar Winners by Decade and Gender with Linear Regression')\n",
    "plt.legend()\n",
    "plt.grid(True)\n",
    "plt.show()"
   ]
  }
 ],
 "metadata": {
  "kernelspec": {
   "display_name": "Python 3 (ipykernel)",
   "language": "python",
   "name": "python3"
  },
  "language_info": {
   "codemirror_mode": {
    "name": "ipython",
    "version": 3
   },
   "file_extension": ".py",
   "mimetype": "text/x-python",
   "name": "python",
   "nbconvert_exporter": "python",
   "pygments_lexer": "ipython3",
   "version": "3.11.5"
  }
 },
 "nbformat": 4,
 "nbformat_minor": 5
}
