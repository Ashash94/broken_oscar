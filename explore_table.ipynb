{
 "cells": [
  {
   "cell_type": "code",
   "execution_count": 8,
   "id": "6539b6bf-7ea1-46f8-a4f7-a6717570b67c",
   "metadata": {},
   "outputs": [],
   "source": [
    "%matplotlib inline\n",
    "\n",
    "import pandas as pd\n",
    "import matplotlib.pyplot as plt\n",
    "from sklearn.linear_model import LinearRegression"
   ]
  },
  {
   "cell_type": "code",
   "execution_count": 9,
   "id": "674a6a8b-21b6-4e87-bc97-edc67e1c5684",
   "metadata": {},
   "outputs": [
    {
     "data": {
      "text/plain": [
       "gender\n",
       "F    36.0\n",
       "M    44.0\n",
       "Name: age, dtype: float64"
      ]
     },
     "execution_count": 9,
     "metadata": {},
     "output_type": "execute_result"
    }
   ],
   "source": [
    "df = pd.read_csv('data_csv/oscar_merged.csv')\n",
    "average_age_gender = df.groupby('gender')['age'].mean().round(0)\n",
    "\n",
    "average_age_gender"
   ]
  },
  {
   "cell_type": "code",
   "execution_count": 10,
   "id": "9f3f0dd1-11c9-408d-9caa-7c89ead6b8f7",
   "metadata": {},
   "outputs": [],
   "source": [
    "df_most_win = df['name'].value_counts()"
   ]
  },
  {
   "cell_type": "code",
   "execution_count": 11,
   "id": "42e53b3b-9987-4bdc-8bf0-5b2bab533845",
   "metadata": {},
   "outputs": [
    {
     "data": {
      "text/plain": [
       "name\n",
       "Katharine Hepburn      4\n",
       "Daniel Day-Lewis       3\n",
       "Marlon Brando          2\n",
       "Tom Hanks              2\n",
       "Frances McDormand      2\n",
       "Hilary Swank           2\n",
       "Elizabeth Taylor       2\n",
       "Jodie Foster           2\n",
       "Olivia de Havilland    2\n",
       "Ingrid Bergman         2\n",
       "Sean Penn              2\n",
       "Gary Cooper            2\n",
       "Vivien Leigh           2\n",
       "Spencer Tracy          2\n",
       "Meryl Streep           2\n",
       "Luise Rainer           2\n",
       "Glenda Jackson         2\n",
       "Jane Fonda             2\n",
       "Dustin Hoffman         2\n",
       "Sally Field            2\n",
       "Fredric March          2\n",
       "Jack Nicholson         2\n",
       "Bette Davis            2\n",
       "Name: count, dtype: int64"
      ]
     },
     "execution_count": 11,
     "metadata": {},
     "output_type": "execute_result"
    }
   ],
   "source": [
    "most_common_names = df_most_win[df_most_win >= 2]\n",
    "most_common_names"
   ]
  },
  {
   "cell_type": "code",
   "execution_count": 27,
   "id": "a4dcf5b3-edb7-44a1-8856-cb44ee95bacb",
   "metadata": {},
   "outputs": [
    {
     "name": "stderr",
     "output_type": "stream",
     "text": [
      "/tmp/ipykernel_818/2861089690.py:2: FutureWarning: The default of observed=False is deprecated and will be changed to True in a future version of pandas. Pass observed=False to retain current behavior or observed=True to adopt the future default and silence this warning.\n",
      "  average_age_decade = df.groupby([pd.cut(df['year'], bins=decade_bins),'gender'])['age'].mean().round(0).reset_index(name='average_age')\n"
     ]
    }
   ],
   "source": [
    "decade_bins = range(1920, 2020, 10)\n",
    "average_age_decade = df.groupby([pd.cut(df['year'], bins=decade_bins),'gender'])['age'].mean().round(0).reset_index(name='average_age')"
   ]
  },
  {
   "cell_type": "code",
   "execution_count": 33,
   "id": "9e62a5f7-e1c0-4262-a4d1-c79d3c663770",
   "metadata": {},
   "outputs": [
    {
     "data": {
      "text/html": [
       "<div>\n",
       "<style scoped>\n",
       "    .dataframe tbody tr th:only-of-type {\n",
       "        vertical-align: middle;\n",
       "    }\n",
       "\n",
       "    .dataframe tbody tr th {\n",
       "        vertical-align: top;\n",
       "    }\n",
       "\n",
       "    .dataframe thead th {\n",
       "        text-align: right;\n",
       "    }\n",
       "</style>\n",
       "<table border=\"1\" class=\"dataframe\">\n",
       "  <thead>\n",
       "    <tr style=\"text-align: right;\">\n",
       "      <th></th>\n",
       "      <th>year</th>\n",
       "      <th>average_age</th>\n",
       "    </tr>\n",
       "  </thead>\n",
       "  <tbody>\n",
       "    <tr>\n",
       "      <th>0</th>\n",
       "      <td>(1920, 1930]</td>\n",
       "      <td>38.0</td>\n",
       "    </tr>\n",
       "    <tr>\n",
       "      <th>2</th>\n",
       "      <td>(1930, 1940]</td>\n",
       "      <td>28.0</td>\n",
       "    </tr>\n",
       "    <tr>\n",
       "      <th>4</th>\n",
       "      <td>(1940, 1950]</td>\n",
       "      <td>33.0</td>\n",
       "    </tr>\n",
       "    <tr>\n",
       "      <th>6</th>\n",
       "      <td>(1950, 1960]</td>\n",
       "      <td>36.0</td>\n",
       "    </tr>\n",
       "    <tr>\n",
       "      <th>8</th>\n",
       "      <td>(1960, 1970]</td>\n",
       "      <td>37.0</td>\n",
       "    </tr>\n",
       "    <tr>\n",
       "      <th>10</th>\n",
       "      <td>(1970, 1980]</td>\n",
       "      <td>35.0</td>\n",
       "    </tr>\n",
       "    <tr>\n",
       "      <th>12</th>\n",
       "      <td>(1980, 1990]</td>\n",
       "      <td>46.0</td>\n",
       "    </tr>\n",
       "    <tr>\n",
       "      <th>14</th>\n",
       "      <td>(1990, 2000]</td>\n",
       "      <td>35.0</td>\n",
       "    </tr>\n",
       "    <tr>\n",
       "      <th>16</th>\n",
       "      <td>(2000, 2010]</td>\n",
       "      <td>36.0</td>\n",
       "    </tr>\n",
       "  </tbody>\n",
       "</table>\n",
       "</div>"
      ],
      "text/plain": [
       "            year  average_age\n",
       "0   (1920, 1930]         38.0\n",
       "2   (1930, 1940]         28.0\n",
       "4   (1940, 1950]         33.0\n",
       "6   (1950, 1960]         36.0\n",
       "8   (1960, 1970]         37.0\n",
       "10  (1970, 1980]         35.0\n",
       "12  (1980, 1990]         46.0\n",
       "14  (1990, 2000]         35.0\n",
       "16  (2000, 2010]         36.0"
      ]
     },
     "execution_count": 33,
     "metadata": {},
     "output_type": "execute_result"
    }
   ],
   "source": [
    "avg_age_fem = average_age_decade[average_age_decade['gender']=='F'][['year', 'average_age']]\n",
    "avg_age_fem"
   ]
  },
  {
   "cell_type": "code",
   "execution_count": 32,
   "id": "fb970962-56f6-48b6-ae42-b20a9c86e933",
   "metadata": {},
   "outputs": [
    {
     "data": {
      "text/html": [
       "<div>\n",
       "<style scoped>\n",
       "    .dataframe tbody tr th:only-of-type {\n",
       "        vertical-align: middle;\n",
       "    }\n",
       "\n",
       "    .dataframe tbody tr th {\n",
       "        vertical-align: top;\n",
       "    }\n",
       "\n",
       "    .dataframe thead th {\n",
       "        text-align: right;\n",
       "    }\n",
       "</style>\n",
       "<table border=\"1\" class=\"dataframe\">\n",
       "  <thead>\n",
       "    <tr style=\"text-align: right;\">\n",
       "      <th></th>\n",
       "      <th>year</th>\n",
       "      <th>average_age</th>\n",
       "    </tr>\n",
       "  </thead>\n",
       "  <tbody>\n",
       "    <tr>\n",
       "      <th>1</th>\n",
       "      <td>(1920, 1930]</td>\n",
       "      <td>50.0</td>\n",
       "    </tr>\n",
       "    <tr>\n",
       "      <th>3</th>\n",
       "      <td>(1930, 1940]</td>\n",
       "      <td>38.0</td>\n",
       "    </tr>\n",
       "    <tr>\n",
       "      <th>5</th>\n",
       "      <td>(1940, 1950]</td>\n",
       "      <td>44.0</td>\n",
       "    </tr>\n",
       "    <tr>\n",
       "      <th>7</th>\n",
       "      <td>(1950, 1960]</td>\n",
       "      <td>42.0</td>\n",
       "    </tr>\n",
       "    <tr>\n",
       "      <th>9</th>\n",
       "      <td>(1960, 1970]</td>\n",
       "      <td>45.0</td>\n",
       "    </tr>\n",
       "    <tr>\n",
       "      <th>11</th>\n",
       "      <td>(1970, 1980]</td>\n",
       "      <td>44.0</td>\n",
       "    </tr>\n",
       "    <tr>\n",
       "      <th>13</th>\n",
       "      <td>(1980, 1990]</td>\n",
       "      <td>48.0</td>\n",
       "    </tr>\n",
       "    <tr>\n",
       "      <th>15</th>\n",
       "      <td>(1990, 2000]</td>\n",
       "      <td>44.0</td>\n",
       "    </tr>\n",
       "    <tr>\n",
       "      <th>17</th>\n",
       "      <td>(2000, 2010]</td>\n",
       "      <td>45.0</td>\n",
       "    </tr>\n",
       "  </tbody>\n",
       "</table>\n",
       "</div>"
      ],
      "text/plain": [
       "            year  average_age\n",
       "1   (1920, 1930]         50.0\n",
       "3   (1930, 1940]         38.0\n",
       "5   (1940, 1950]         44.0\n",
       "7   (1950, 1960]         42.0\n",
       "9   (1960, 1970]         45.0\n",
       "11  (1970, 1980]         44.0\n",
       "13  (1980, 1990]         48.0\n",
       "15  (1990, 2000]         44.0\n",
       "17  (2000, 2010]         45.0"
      ]
     },
     "execution_count": 32,
     "metadata": {},
     "output_type": "execute_result"
    }
   ],
   "source": [
    "avg_age_male = average_age_decade[average_age_decade['gender']=='M'][['year', 'average_age']]\n",
    "avg_age_male"
   ]
  },
  {
   "cell_type": "code",
   "execution_count": 46,
   "id": "abc85bfe-3715-4543-b1a1-0a63ff0d5cf4",
   "metadata": {},
   "outputs": [
    {
     "data": {
      "text/html": [
       "<div>\n",
       "<style scoped>\n",
       "    .dataframe tbody tr th:only-of-type {\n",
       "        vertical-align: middle;\n",
       "    }\n",
       "\n",
       "    .dataframe tbody tr th {\n",
       "        vertical-align: top;\n",
       "    }\n",
       "\n",
       "    .dataframe thead th {\n",
       "        text-align: right;\n",
       "    }\n",
       "</style>\n",
       "<table border=\"1\" class=\"dataframe\">\n",
       "  <thead>\n",
       "    <tr style=\"text-align: right;\">\n",
       "      <th></th>\n",
       "      <th>year</th>\n",
       "      <th>average_age</th>\n",
       "    </tr>\n",
       "  </thead>\n",
       "  <tbody>\n",
       "    <tr>\n",
       "      <th>1</th>\n",
       "      <td>(1920, 1930]</td>\n",
       "      <td>50.0</td>\n",
       "    </tr>\n",
       "    <tr>\n",
       "      <th>3</th>\n",
       "      <td>(1930, 1940]</td>\n",
       "      <td>38.0</td>\n",
       "    </tr>\n",
       "    <tr>\n",
       "      <th>5</th>\n",
       "      <td>(1940, 1950]</td>\n",
       "      <td>44.0</td>\n",
       "    </tr>\n",
       "    <tr>\n",
       "      <th>7</th>\n",
       "      <td>(1950, 1960]</td>\n",
       "      <td>42.0</td>\n",
       "    </tr>\n",
       "    <tr>\n",
       "      <th>9</th>\n",
       "      <td>(1960, 1970]</td>\n",
       "      <td>45.0</td>\n",
       "    </tr>\n",
       "    <tr>\n",
       "      <th>11</th>\n",
       "      <td>(1970, 1980]</td>\n",
       "      <td>44.0</td>\n",
       "    </tr>\n",
       "    <tr>\n",
       "      <th>13</th>\n",
       "      <td>(1980, 1990]</td>\n",
       "      <td>48.0</td>\n",
       "    </tr>\n",
       "    <tr>\n",
       "      <th>15</th>\n",
       "      <td>(1990, 2000]</td>\n",
       "      <td>44.0</td>\n",
       "    </tr>\n",
       "    <tr>\n",
       "      <th>17</th>\n",
       "      <td>(2000, 2010]</td>\n",
       "      <td>45.0</td>\n",
       "    </tr>\n",
       "  </tbody>\n",
       "</table>\n",
       "</div>"
      ],
      "text/plain": [
       "            year  average_age\n",
       "1   (1920, 1930]         50.0\n",
       "3   (1930, 1940]         38.0\n",
       "5   (1940, 1950]         44.0\n",
       "7   (1950, 1960]         42.0\n",
       "9   (1960, 1970]         45.0\n",
       "11  (1970, 1980]         44.0\n",
       "13  (1980, 1990]         48.0\n",
       "15  (1990, 2000]         44.0\n",
       "17  (2000, 2010]         45.0"
      ]
     },
     "execution_count": 46,
     "metadata": {},
     "output_type": "execute_result"
    }
   ],
   "source": [
    "genre_colors = ['cyan','pink']\n",
    "avg_age_male"
   ]
  },
  {
   "cell_type": "code",
   "execution_count": 56,
   "id": "e0c8dc9c-d2fb-42f9-9cde-3cf4fa15d8a8",
   "metadata": {},
   "outputs": [
    {
     "data": {
      "text/plain": [
       "<Axes: xlabel='year'>"
      ]
     },
     "execution_count": 56,
     "metadata": {},
     "output_type": "execute_result"
    },
    {
     "data": {
      "text/plain": [
       "<Figure size 640x480 with 0 Axes>"
      ]
     },
     "metadata": {},
     "output_type": "display_data"
    },
    {
     "data": {
      "image/png": "[encoded data removed]",
      "text/plain": [
       "<Figure size 640x480 with 1 Axes>"
      ]
     },
     "metadata": {},
     "output_type": "display_data"
    },
    {
     "data": {
      "image/png": "[encoded data removed]",
      "text/plain": [
       "<Figure size 640x480 with 1 Axes>"
      ]
     },
     "metadata": {},
     "output_type": "display_data"
    }
   ],
   "source": [
    "plt.figure()\n",
    "\n",
    "#average_age_decade.plot(kind='hist', bins=10, edgecolor='black')\n",
    "avg_age_male.plot(x='year', y='average_age',color = 'cyan')\n",
    "avg_age_fem.plot(kind=bar,x='year', y='average_age', color='pink')\n"
   ]
  },
  {
   "cell_type": "code",
   "execution_count": null,
   "id": "9b03f1e7-b0f2-42ed-9b24-910e86482653",
   "metadata": {},
   "outputs": [],
   "source": []
  }
 ],
 "metadata": {
  "kernelspec": {
   "display_name": "Python 3 (ipykernel)",
   "language": "python",
   "name": "python3"
  },
  "language_info": {
   "codemirror_mode": {
    "name": "ipython",
    "version": 3
   },
   "file_extension": ".py",
   "mimetype": "text/x-python",
   "name": "python",
   "nbconvert_exporter": "python",
   "pygments_lexer": "ipython3",
   "version": "3.11.5"
  }
 },
 "nbformat": 4,
 "nbformat_minor": 5
}
